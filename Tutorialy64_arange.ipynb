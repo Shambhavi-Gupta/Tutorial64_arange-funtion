{
  "nbformat": 4,
  "nbformat_minor": 0,
  "metadata": {
    "colab": {
      "name": "Tutorialy64_arange.ipynb",
      "provenance": [],
      "authorship_tag": "ABX9TyNb0nTmlIwlfJM6TfvfPXNy",
      "include_colab_link": true
    },
    "kernelspec": {
      "name": "python3",
      "display_name": "Python 3"
    }
  },
  "cells": [
    {
      "cell_type": "markdown",
      "metadata": {
        "id": "view-in-github",
        "colab_type": "text"
      },
      "source": [
        "<a href=\"https://colab.research.google.com/github/Shambhavi-Gupta/Tutorial64_arange-funtion/blob/main/Tutorialy64_arange.ipynb\" target=\"_parent\"><img src=\"https://colab.research.google.com/assets/colab-badge.svg\" alt=\"Open In Colab\"/></a>"
      ]
    },
    {
      "cell_type": "code",
      "metadata": {
        "id": "yEdHpQRUJrHk"
      },
      "source": [
        "import numpy as np\r\n",
        "#help(np.arange)\r\n",
        "# a = np.arange(1,9)\r\n",
        "# print(a)\r\n",
        "# arange(start,stop,skip,dtype)\r\n",
        "# b = np.arange(5.0)\r\n",
        "# print(b)\r\n",
        "# a = np.arange(1,10,2)\r\n",
        "# print(a)\r\n",
        "c = np.arange(10,dtype = \"complex\")\r\n",
        "print(c)"
      ],
      "execution_count": null,
      "outputs": []
    }
  ]
}